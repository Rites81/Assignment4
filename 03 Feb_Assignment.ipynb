{
 "cells": [
  {
   "cell_type": "markdown",
   "id": "eaaaae68",
   "metadata": {},
   "source": [
    "#  def keyword is used to create a function."
   ]
  },
  {
   "cell_type": "code",
   "execution_count": 27,
   "id": "53ab19ec",
   "metadata": {},
   "outputs": [],
   "source": [
    "def odd_number(a):\n",
    "    Odd_list=[]\n",
    "    for i in range(1,25):\n",
    "        if i%2!=0:\n",
    "            \n",
    "            odd_list.append(i)\n",
    "            return odd_list\n",
    "        print(odd_number)"
   ]
  },
  {
   "cell_type": "markdown",
   "id": "8e7b8aab",
   "metadata": {},
   "source": [
    "## *args ::The special syntax *args in function definitions in python is used to pass a variable number of arguments to a function. It is used to pass a non-key worded, variable-length argument list.\n",
    "\n",
    "## **kwargs :: The special syntax **kwargs in function definitions in python is used to pass a keyworded, variable-length argument list. We use the name kwargs with the double star. The reason is that the double star allows us to pass through keyword arguments. it work on Key and value pair inside a function."
   ]
  },
  {
   "cell_type": "code",
   "execution_count": 34,
   "id": "0d83fa99",
   "metadata": {},
   "outputs": [],
   "source": [
    "def test(*args):\n",
    "    \n",
    "    return args"
   ]
  },
  {
   "cell_type": "code",
   "execution_count": 35,
   "id": "c895c4cf",
   "metadata": {},
   "outputs": [
    {
     "data": {
      "text/plain": [
       "(1, 2, 3)"
      ]
     },
     "execution_count": 35,
     "metadata": {},
     "output_type": "execute_result"
    }
   ],
   "source": [
    "test(1,2,3)"
   ]
  },
  {
   "cell_type": "code",
   "execution_count": 36,
   "id": "7bdc3865",
   "metadata": {},
   "outputs": [],
   "source": [
    "def test2(**kwargs):\n",
    "    return kwargs"
   ]
  },
  {
   "cell_type": "code",
   "execution_count": 37,
   "id": "7c69e798",
   "metadata": {},
   "outputs": [
    {
     "data": {
      "text/plain": [
       "{'a': 12, 'b': ('Ritesh', 'Ramesh', 'Priya')}"
      ]
     },
     "execution_count": 37,
     "metadata": {},
     "output_type": "execute_result"
    }
   ],
   "source": [
    "test2(a=12,b=(\"Ritesh\",\"Ramesh\",\"Priya\"))"
   ]
  },
  {
   "cell_type": "markdown",
   "id": "04f8cdb9",
   "metadata": {},
   "source": [
    "### Iterator in Python is an object that is used to iterate over iterable objects like lists, tuples, dicts, and sets. The iterator object is initialized using the iter() method. It uses the next() method for iteration. \n",
    "### __next__():The next method returns the next value for the iterable."
   ]
  },
  {
   "cell_type": "code",
   "execution_count": 47,
   "id": "ff65bef0",
   "metadata": {},
   "outputs": [
    {
     "name": "stdout",
     "output_type": "stream",
     "text": [
      "2\n",
      "4\n",
      "6\n",
      "8\n",
      "10\n"
     ]
    }
   ],
   "source": [
    "mytuple = [2, 4, 6, 8, 10, 12, 14, 16,18, 20]\n",
    "\n",
    "myit = iter(mytuple)\n",
    "\n",
    "print(next(myit))\n",
    "print(next(myit))\n",
    "print(next(myit))\n",
    "print(next(myit))\n",
    "print(next(myit))\n"
   ]
  },
  {
   "cell_type": "markdown",
   "id": "5037d410",
   "metadata": {},
   "source": [
    "# a generator is a function that returns an iterator that produces a sequence of values when iterated over.\n",
    "\n",
    "## The yield keyword is used to return a value from a generator function.\n",
    "\n",
    "## generator function held by Yield keyword.\n"
   ]
  },
  {
   "cell_type": "code",
   "execution_count": 41,
   "id": "67a07b6e",
   "metadata": {},
   "outputs": [],
   "source": [
    "def test_fib(n):\n",
    "    a,b=0,1\n",
    "    for i in range(n):\n",
    "        yield(a)\n",
    "        a,b=b,a+b"
   ]
  },
  {
   "cell_type": "code",
   "execution_count": 42,
   "id": "c3f98cac",
   "metadata": {},
   "outputs": [
    {
     "name": "stdout",
     "output_type": "stream",
     "text": [
      "0\n",
      "1\n",
      "1\n",
      "2\n",
      "3\n",
      "5\n",
      "8\n",
      "13\n",
      "21\n",
      "34\n"
     ]
    }
   ],
   "source": [
    " for i in test_fib(10):\n",
    "        print(i)"
   ]
  },
  {
   "cell_type": "code",
   "execution_count": 45,
   "id": "d52e6050",
   "metadata": {},
   "outputs": [
    {
     "ename": "TypeError",
     "evalue": "'NoneType' object is not iterable",
     "output_type": "error",
     "traceback": [
      "\u001b[1;31m---------------------------------------------------------------------------\u001b[0m",
      "\u001b[1;31mTypeError\u001b[0m                                 Traceback (most recent call last)",
      "Input \u001b[1;32mIn [45]\u001b[0m, in \u001b[0;36m<cell line: 16>\u001b[1;34m()\u001b[0m\n\u001b[0;32m     13\u001b[0m prime_nums \u001b[38;5;241m=\u001b[39m generate_prime_numbers(\u001b[38;5;241m1000\u001b[39m)\n\u001b[0;32m     15\u001b[0m counter \u001b[38;5;241m=\u001b[39m \u001b[38;5;241m0\u001b[39m \n\u001b[1;32m---> 16\u001b[0m \u001b[38;5;28;01mfor\u001b[39;00m num \u001b[38;5;129;01min\u001b[39;00m prime_nums: \n\u001b[0;32m     17\u001b[0m     \u001b[38;5;28;01mif\u001b[39;00m counter \u001b[38;5;241m==\u001b[39m \u001b[38;5;241m20\u001b[39m:\n\u001b[0;32m     18\u001b[0m         \u001b[38;5;28;01mbreak\u001b[39;00m \n",
      "\u001b[1;31mTypeError\u001b[0m: 'NoneType' object is not iterable"
     ]
    }
   ],
   "source": [
    "def generate_prime_numbers(n):\n",
    "    prime_numbers = [] \n",
    "    for num in range(2, n + 1): \n",
    "        is_prime = True \n",
    "        for i in range(2, num):\n",
    "            if num % i == 0: \n",
    "                is_prime = False \n",
    "                break \n",
    "                if is_prime: \n",
    "                    prime_numbers.append(num) \n",
    "                    return prime_numbers\n",
    "\n",
    "prime_nums = generate_prime_numbers(1000)\n",
    "\n",
    "counter = 0 \n",
    "for num in prime_nums: \n",
    "    if counter == 20:\n",
    "        break \n",
    "    else: \n",
    "            print(num) \n",
    "            counter += 1"
   ]
  },
  {
   "cell_type": "code",
   "execution_count": null,
   "id": "9eecfd94",
   "metadata": {},
   "outputs": [],
   "source": []
  }
 ],
 "metadata": {
  "kernelspec": {
   "display_name": "Python 3 (ipykernel)",
   "language": "python",
   "name": "python3"
  },
  "language_info": {
   "codemirror_mode": {
    "name": "ipython",
    "version": 3
   },
   "file_extension": ".py",
   "mimetype": "text/x-python",
   "name": "python",
   "nbconvert_exporter": "python",
   "pygments_lexer": "ipython3",
   "version": "3.10.5"
  }
 },
 "nbformat": 4,
 "nbformat_minor": 5
}
